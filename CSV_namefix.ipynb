{
 "cells": [
  {
   "cell_type": "markdown",
   "id": "72d4f54f-3d44-4bcc-bec0-28c24ac61461",
   "metadata": {},
   "source": [
    "# CSV File Name Fixes"
   ]
  },
  {
   "cell_type": "markdown",
   "id": "44c0d625-fd4b-47bf-a779-51e8de339734",
   "metadata": {},
   "source": [
    "## Imports"
   ]
  },
  {
   "cell_type": "code",
   "execution_count": 1,
   "id": "7741c1af-440f-45e3-987e-6db82eaf92b3",
   "metadata": {},
   "outputs": [],
   "source": [
    "import pandas as pd"
   ]
  },
  {
   "cell_type": "markdown",
   "id": "6735b124-1e5a-45b5-9675-183436498495",
   "metadata": {},
   "source": [
    "## Name Fixes"
   ]
  },
  {
   "cell_type": "code",
   "execution_count": 2,
   "id": "7f750f51-bcfe-461d-8ec3-3f2cad77e71c",
   "metadata": {},
   "outputs": [],
   "source": [
    "df = {}\n",
    "for i in [0, 1, 2, 6, 10, 12, 13]:\n",
    "    ifile = \"Axial_313-\" + str(i) + \"_Features.csv\"\n",
    "    if i == 0:\n",
    "        ifile = \"Axial_313_Features.csv\"\n",
    "    df[i] = pd.read_csv(ifile).set_index(\"Image\")"
   ]
  },
  {
   "cell_type": "code",
   "execution_count": 3,
   "id": "3185f7af-59a5-46ae-a9e4-2ef96a3178bc",
   "metadata": {},
   "outputs": [],
   "source": [
    "for i in [0, 1, 2, 6, 10, 12, 13]:\n",
    "    df[i] = df[i].rename(index={\"1DILR_100dose_2-5mm.nii\": \"1DLIR_100dose_2-5mm.nii\"})"
   ]
  },
  {
   "cell_type": "code",
   "execution_count": 4,
   "id": "49d65f5a-b93a-4cef-b602-e805bed371e6",
   "metadata": {},
   "outputs": [],
   "source": [
    "for i in [0, 1, 2, 6, 10, 12, 13]:\n",
    "    ofile = \"Axial_313-\" + str(i) + \"_Features.csv\"\n",
    "    if i == 0:\n",
    "        ofile = \"Axial_313_Features.csv\"\n",
    "    df[i].to_csv(ofile)"
   ]
  }
 ],
 "metadata": {
  "kernelspec": {
   "display_name": "Python 3 (ipykernel)",
   "language": "python",
   "name": "python3"
  },
  "language_info": {
   "codemirror_mode": {
    "name": "ipython",
    "version": 3
   },
   "file_extension": ".py",
   "mimetype": "text/x-python",
   "name": "python",
   "nbconvert_exporter": "python",
   "pygments_lexer": "ipython3",
   "version": "3.11.4"
  }
 },
 "nbformat": 4,
 "nbformat_minor": 5
}
